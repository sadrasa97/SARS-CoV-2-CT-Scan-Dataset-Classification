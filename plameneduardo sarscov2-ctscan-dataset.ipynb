{
  "nbformat": 4,
  "nbformat_minor": 0,
  "metadata": {
    "colab": {
      "provenance": [],
      "gpuType": "T4"
    },
    "kernelspec": {
      "name": "python3",
      "display_name": "Python 3"
    },
    "language_info": {
      "name": "python"
    },
    "accelerator": "GPU"
  },
  "cells": [
    {
      "cell_type": "code",
      "execution_count": 1,
      "metadata": {
        "colab": {
          "base_uri": "https://localhost:8080/"
        },
        "id": "SVJc7tVVg7kg",
        "outputId": "943a447f-bed0-430b-fdc8-23c466b93635"
      },
      "outputs": [
        {
          "output_type": "stream",
          "name": "stdout",
          "text": [
            "Mounted at /content/drive\n"
          ]
        }
      ],
      "source": [
        "from google.colab import drive\n",
        "drive.mount('/content/drive')"
      ]
    },
    {
      "cell_type": "code",
      "source": [
        "! mkdir ~/.kaggle\n",
        "#Copy the json kaggle to this directory\n",
        "! cp kaggle.json ~/.kaggle/\n",
        "#Allocate the required permission for this file.\n",
        "! chmod 600 ~/.kaggle/kaggle.json\n",
        "!pip install kaggle\n",
        "!mkdir -p ~/.kaggle\n",
        "!cp kaggle.json ~/.kaggle/\n",
        "!chmod 600 ~/.kaggle/kaggle.json\n",
        "!kaggle datasets download -d plameneduardo/sarscov2-ctscan-dataset"
      ],
      "metadata": {
        "colab": {
          "base_uri": "https://localhost:8080/"
        },
        "id": "A5UZbsQmhAQl",
        "outputId": "9bc0188f-43ff-4151-d2cf-2a5203ca5f23"
      },
      "execution_count": 2,
      "outputs": [
        {
          "output_type": "stream",
          "name": "stdout",
          "text": [
            "cp: cannot stat 'kaggle.json': No such file or directory\n",
            "chmod: cannot access '/root/.kaggle/kaggle.json': No such file or directory\n",
            "Requirement already satisfied: kaggle in /usr/local/lib/python3.10/dist-packages (1.5.15)\n",
            "Requirement already satisfied: six>=1.10 in /usr/local/lib/python3.10/dist-packages (from kaggle) (1.16.0)\n",
            "Requirement already satisfied: certifi in /usr/local/lib/python3.10/dist-packages (from kaggle) (2023.5.7)\n",
            "Requirement already satisfied: python-dateutil in /usr/local/lib/python3.10/dist-packages (from kaggle) (2.8.2)\n",
            "Requirement already satisfied: requests in /usr/local/lib/python3.10/dist-packages (from kaggle) (2.27.1)\n",
            "Requirement already satisfied: tqdm in /usr/local/lib/python3.10/dist-packages (from kaggle) (4.65.0)\n",
            "Requirement already satisfied: python-slugify in /usr/local/lib/python3.10/dist-packages (from kaggle) (8.0.1)\n",
            "Requirement already satisfied: urllib3 in /usr/local/lib/python3.10/dist-packages (from kaggle) (1.26.16)\n",
            "Requirement already satisfied: bleach in /usr/local/lib/python3.10/dist-packages (from kaggle) (6.0.0)\n",
            "Requirement already satisfied: webencodings in /usr/local/lib/python3.10/dist-packages (from bleach->kaggle) (0.5.1)\n",
            "Requirement already satisfied: text-unidecode>=1.3 in /usr/local/lib/python3.10/dist-packages (from python-slugify->kaggle) (1.3)\n",
            "Requirement already satisfied: charset-normalizer~=2.0.0 in /usr/local/lib/python3.10/dist-packages (from requests->kaggle) (2.0.12)\n",
            "Requirement already satisfied: idna<4,>=2.5 in /usr/local/lib/python3.10/dist-packages (from requests->kaggle) (3.4)\n",
            "Downloading sarscov2-ctscan-dataset.zip to /content\n",
            " 90% 208M/230M [00:01<00:00, 144MB/s]\n",
            "100% 230M/230M [00:01<00:00, 126MB/s]\n"
          ]
        }
      ]
    },
    {
      "cell_type": "code",
      "source": [
        "import os\n",
        "import zipfile\n",
        "#unzip_dataset\n",
        "local_zip='/content/sarscov2-ctscan-dataset.zip'\n",
        "zip_ref=zipfile.ZipFile(local_zip,'r')\n",
        "zip_ref.extractall('/content/drive/MyDrive')"
      ],
      "metadata": {
        "id": "dNorp93hg9qo"
      },
      "execution_count": 3,
      "outputs": []
    },
    {
      "cell_type": "code",
      "source": [
        "import matplotlib.pyplot as plt\n",
        "import numpy as np\n",
        "import PIL\n",
        "import tensorflow as tf\n",
        "\n",
        "from tensorflow import keras\n",
        "from tensorflow.keras import layers\n",
        "from tensorflow.keras.models import Sequential\n"
      ],
      "metadata": {
        "id": "tNo7ZY_fjIsw"
      },
      "execution_count": 4,
      "outputs": []
    },
    {
      "cell_type": "code",
      "source": [
        "data_dir = \"/content/drive/MyDrive/sarscov2-ctscan-dataset\"\n",
        "img_height, img_width = 224, 224\n",
        "batch_size = 64"
      ],
      "metadata": {
        "id": "tXPsHlTGjLhN"
      },
      "execution_count": 5,
      "outputs": []
    },
    {
      "cell_type": "code",
      "source": [
        "data_dir =  '/content/drive/MyDrive/sarscov2-ctscan-dataset'\n",
        "img_height, img_width = 224,224\n",
        "batch_size = 64\n",
        "\n",
        "train_ds = tf.keras.utils.image_dataset_from_directory(\n",
        "  data_dir,\n",
        "  labels='inferred',\n",
        "  label_mode='binary',\n",
        "  validation_split=0.2,\n",
        "  subset=\"training\",\n",
        "  seed=123,\n",
        "  image_size=(img_height, img_width),\n",
        "  shuffle=True,\n",
        "  interpolation='nearest',\n",
        "  batch_size=batch_size)\n",
        "\n",
        "valid_ds = tf.keras.utils.image_dataset_from_directory(\n",
        "  data_dir,\n",
        "  labels='inferred',\n",
        "  label_mode='binary',\n",
        "  validation_split=0.2,\n",
        "  subset=\"validation\",\n",
        "  seed=123,\n",
        "  image_size=(img_height, img_width),\n",
        "  shuffle=True,\n",
        "  interpolation='nearest',\n",
        "  batch_size=batch_size)"
      ],
      "metadata": {
        "colab": {
          "base_uri": "https://localhost:8080/"
        },
        "id": "Gpt8T8vblllD",
        "outputId": "f9cc1657-db1c-4939-c4f8-29dccbd4f10a"
      },
      "execution_count": 6,
      "outputs": [
        {
          "output_type": "stream",
          "name": "stdout",
          "text": [
            "Found 2481 files belonging to 2 classes.\n",
            "Using 1985 files for training.\n",
            "Found 2481 files belonging to 2 classes.\n",
            "Using 496 files for validation.\n"
          ]
        }
      ]
    },
    {
      "cell_type": "code",
      "source": [
        "rescale = tf.keras.Sequential([\n",
        "    layers.Rescaling(1./255, input_shape=[img_height, img_width, 3])\n",
        "])"
      ],
      "metadata": {
        "id": "eK4T3PZplvyv"
      },
      "execution_count": 7,
      "outputs": []
    },
    {
      "cell_type": "code",
      "source": [
        "model = keras.Sequential([\n",
        "\n",
        "    rescale,\n",
        "\n",
        "    # First Convolutional Block\n",
        "    layers.Conv2D(filters=32, kernel_size=5, activation=\"relu\", padding='same'),\n",
        "    layers.MaxPool2D(),\n",
        "\n",
        "    # Second Convolutional Block\n",
        "    layers.Conv2D(filters=64, kernel_size=3, activation=\"relu\", padding='same'),\n",
        "    layers.MaxPool2D(),\n",
        "\n",
        "    # Third Convolutional Block\n",
        "    layers.Conv2D(filters=128, kernel_size=3, activation=\"relu\", padding='same'),\n",
        "    layers.MaxPool2D(),\n",
        "\n",
        "    # Classifier Head\n",
        "    layers.Flatten(),\n",
        "    layers.Dense(units=128, activation=\"relu\"),\n",
        "    layers.Dropout(0.5),\n",
        "    layers.Dense(units=64, activation=\"relu\"),\n",
        "    layers.Dropout(0.3),\n",
        "    layers.Dense(units=32, activation=\"relu\"),\n",
        "    layers.Dense(units=1, activation=\"sigmoid\"),\n",
        "])\n",
        "model.summary()"
      ],
      "metadata": {
        "colab": {
          "base_uri": "https://localhost:8080/"
        },
        "id": "fsjYLNgRlywA",
        "outputId": "d1854457-6def-4494-fde7-7d8eac75ed42"
      },
      "execution_count": 8,
      "outputs": [
        {
          "output_type": "stream",
          "name": "stdout",
          "text": [
            "Model: \"sequential_1\"\n",
            "_________________________________________________________________\n",
            " Layer (type)                Output Shape              Param #   \n",
            "=================================================================\n",
            " sequential (Sequential)     (None, 224, 224, 3)       0         \n",
            "                                                                 \n",
            " conv2d (Conv2D)             (None, 224, 224, 32)      2432      \n",
            "                                                                 \n",
            " max_pooling2d (MaxPooling2D  (None, 112, 112, 32)     0         \n",
            " )                                                               \n",
            "                                                                 \n",
            " conv2d_1 (Conv2D)           (None, 112, 112, 64)      18496     \n",
            "                                                                 \n",
            " max_pooling2d_1 (MaxPooling  (None, 56, 56, 64)       0         \n",
            " 2D)                                                             \n",
            "                                                                 \n",
            " conv2d_2 (Conv2D)           (None, 56, 56, 128)       73856     \n",
            "                                                                 \n",
            " max_pooling2d_2 (MaxPooling  (None, 28, 28, 128)      0         \n",
            " 2D)                                                             \n",
            "                                                                 \n",
            " flatten (Flatten)           (None, 100352)            0         \n",
            "                                                                 \n",
            " dense (Dense)               (None, 128)               12845184  \n",
            "                                                                 \n",
            " dropout (Dropout)           (None, 128)               0         \n",
            "                                                                 \n",
            " dense_1 (Dense)             (None, 64)                8256      \n",
            "                                                                 \n",
            " dropout_1 (Dropout)         (None, 64)                0         \n",
            "                                                                 \n",
            " dense_2 (Dense)             (None, 32)                2080      \n",
            "                                                                 \n",
            " dense_3 (Dense)             (None, 1)                 33        \n",
            "                                                                 \n",
            "=================================================================\n",
            "Total params: 12,950,337\n",
            "Trainable params: 12,950,337\n",
            "Non-trainable params: 0\n",
            "_________________________________________________________________\n"
          ]
        }
      ]
    },
    {
      "cell_type": "code",
      "source": [
        "AUTOTUNE = tf.data.AUTOTUNE\n",
        "\n",
        "train_ds_preprocess = train_ds.cache().prefetch(buffer_size=AUTOTUNE)\n",
        "valid_ds_preprocess = valid_ds.cache().prefetch(buffer_size=AUTOTUNE)\n",
        "\n",
        "callback = tf.keras.callbacks.EarlyStopping(monitor='loss', patience=5)\n",
        "\n",
        "model.compile(\n",
        "    optimizer='adam',\n",
        "    loss='binary_crossentropy',\n",
        "    metrics=['accuracy']\n",
        ")\n",
        "\n",
        "history = model.fit(\n",
        "    train_ds_preprocess,\n",
        "    validation_data=valid_ds_preprocess,\n",
        "    epochs=50,\n",
        "    verbose=1,\n",
        "    callbacks=[callback],\n",
        ")"
      ],
      "metadata": {
        "colab": {
          "base_uri": "https://localhost:8080/"
        },
        "id": "IcIUa-U0l2Lm",
        "outputId": "f4e78fc0-56b6-405b-8b88-950c40248b54"
      },
      "execution_count": 12,
      "outputs": [
        {
          "output_type": "stream",
          "name": "stdout",
          "text": [
            "Epoch 1/50\n",
            "32/32 [==============================] - 18s 364ms/step - loss: 0.0782 - accuracy: 0.9698 - val_loss: 0.1709 - val_accuracy: 0.9395\n",
            "Epoch 2/50\n",
            "32/32 [==============================] - 3s 97ms/step - loss: 0.0568 - accuracy: 0.9819 - val_loss: 0.3463 - val_accuracy: 0.8952\n",
            "Epoch 3/50\n",
            "32/32 [==============================] - 3s 90ms/step - loss: 0.0701 - accuracy: 0.9713 - val_loss: 0.1754 - val_accuracy: 0.9315\n",
            "Epoch 4/50\n",
            "32/32 [==============================] - 3s 90ms/step - loss: 0.0734 - accuracy: 0.9783 - val_loss: 0.4162 - val_accuracy: 0.8851\n",
            "Epoch 5/50\n",
            "32/32 [==============================] - 3s 94ms/step - loss: 0.0530 - accuracy: 0.9773 - val_loss: 0.2151 - val_accuracy: 0.9194\n",
            "Epoch 6/50\n",
            "32/32 [==============================] - 3s 91ms/step - loss: 0.0416 - accuracy: 0.9844 - val_loss: 0.2237 - val_accuracy: 0.9355\n",
            "Epoch 7/50\n",
            "32/32 [==============================] - 3s 95ms/step - loss: 0.0478 - accuracy: 0.9834 - val_loss: 0.1717 - val_accuracy: 0.9456\n",
            "Epoch 8/50\n",
            "32/32 [==============================] - 3s 91ms/step - loss: 0.0285 - accuracy: 0.9894 - val_loss: 0.2774 - val_accuracy: 0.9234\n",
            "Epoch 9/50\n",
            "32/32 [==============================] - 3s 90ms/step - loss: 0.0319 - accuracy: 0.9894 - val_loss: 0.1929 - val_accuracy: 0.9415\n",
            "Epoch 10/50\n",
            "32/32 [==============================] - 3s 95ms/step - loss: 0.0263 - accuracy: 0.9884 - val_loss: 0.2157 - val_accuracy: 0.9435\n",
            "Epoch 11/50\n",
            "32/32 [==============================] - 3s 92ms/step - loss: 0.0156 - accuracy: 0.9935 - val_loss: 0.2598 - val_accuracy: 0.9335\n",
            "Epoch 12/50\n",
            "32/32 [==============================] - 3s 91ms/step - loss: 0.0305 - accuracy: 0.9899 - val_loss: 0.2334 - val_accuracy: 0.9375\n",
            "Epoch 13/50\n",
            "32/32 [==============================] - 3s 92ms/step - loss: 0.0535 - accuracy: 0.9804 - val_loss: 0.2925 - val_accuracy: 0.9214\n",
            "Epoch 14/50\n",
            "32/32 [==============================] - 3s 96ms/step - loss: 0.0496 - accuracy: 0.9839 - val_loss: 0.2806 - val_accuracy: 0.9234\n",
            "Epoch 15/50\n",
            "32/32 [==============================] - 3s 92ms/step - loss: 0.0344 - accuracy: 0.9859 - val_loss: 0.2380 - val_accuracy: 0.9274\n",
            "Epoch 16/50\n",
            "32/32 [==============================] - 3s 92ms/step - loss: 0.0436 - accuracy: 0.9819 - val_loss: 0.2608 - val_accuracy: 0.9315\n"
          ]
        }
      ]
    },
    {
      "cell_type": "code",
      "source": [
        "\n",
        "CLASSES = train_ds.class_names\n",
        "probabilities = model.predict(valid_ds_preprocess)\n",
        "\n",
        "predictions = [1 if i >0.5 else 0 for i in probabilities]\n",
        "unbatched_valid_ds_preprocess = valid_ds_preprocess.unbatch()\n",
        "labels_valid = [int(i[1]) for i in unbatched_valid_ds_preprocess]\n",
        "list_labels_predictions = np.vstack((labels_valid,predictions)).T\n",
        "conf_matrix = np.zeros([2,2])\n",
        "\n",
        "for i,j in list_labels_predictions:\n",
        "    conf_matrix[i,j] +=1\n",
        "\n",
        "accuracy = accuracy_score(labels_valid, predictions)\n",
        "f1_score = conf_matrix[1,1]/(conf_matrix[1,1] + ((conf_matrix[0,1] + conf_matrix[1,0])/2))\n",
        "print('Val Accuracy: %.2f' % accuracy)\n",
        "print('False positive: %.2f' % (conf_matrix[0,1]/len(predictions)))\n",
        "print('False negative: %.2f' % (conf_matrix[1,0]/len(predictions)))\n",
        "print('F1-score: %.2f' % (f1_score))\n",
        "\n"
      ],
      "metadata": {
        "colab": {
          "base_uri": "https://localhost:8080/"
        },
        "id": "ClqxzfUCmM81",
        "outputId": "68e57235-2898-4285-9571-059325b581b3"
      },
      "execution_count": 14,
      "outputs": [
        {
          "output_type": "stream",
          "name": "stdout",
          "text": [
            "8/8 [==============================] - 0s 31ms/step\n",
            "Val Accuracy: 0.93\n",
            "False positive: 0.03\n",
            "False negative: 0.04\n",
            "F1-score: 0.93\n"
          ]
        }
      ]
    }
  ]
}